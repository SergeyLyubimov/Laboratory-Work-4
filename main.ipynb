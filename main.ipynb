{
 "cells": [
  {
   "cell_type": "markdown",
   "id": "b69e3122-cadc-4852-ac53-49e1afc0833d",
   "metadata": {},
   "source": [
    "# Задание\n",
    "\n",
    "- Вручную создайте файл и запишите в него данные в произвольном формате (xml, json, yaml или другие известные вам форматы).\n",
    "- Реализуйте программу, которая прочитает сформированный ранее файл и выполнит конвертацию в другой формат. Например: был формат xml — стал json."
   ]
  },
  {
   "cell_type": "code",
   "execution_count": 1,
   "id": "a6d27185-0e7e-42f5-8283-c4bd000327a9",
   "metadata": {},
   "outputs": [],
   "source": [
    "import xml.etree.ElementTree as ET\n",
    "import json\n",
    "from copy import copy\n",
    "import os"
   ]
  },
  {
   "cell_type": "code",
   "execution_count": 2,
   "id": "912fe28a-ca9c-4fc2-81c6-ae85c9bff498",
   "metadata": {},
   "outputs": [],
   "source": [
    "def dictify(r,root=True):\n",
    "    if root:\n",
    "        return {r.tag : dictify(r, False)}\n",
    "    d=copy(r.attrib)\n",
    "    if r.text:\n",
    "        return r.text\n",
    "    for x in r.findall(\"./*\"):\n",
    "        if x.tag not in d:\n",
    "            d[x.tag]=[]\n",
    "        result = dictify(x, False)\n",
    "        if isinstance(result, str):\n",
    "            d[x.tag] = result\n",
    "        else:\n",
    "            d[x.tag].append(dictify(x,False))\n",
    "    return d"
   ]
  },
  {
   "cell_type": "code",
   "execution_count": 5,
   "id": "4f4dce8b-ab6d-4135-8858-4eebdd302eae",
   "metadata": {},
   "outputs": [],
   "source": [
    "def xml_to_json(path):\n",
    "    with open(path, 'r', encoding='UTF-8') as file:\n",
    "        data = file.read()\n",
    "        data = data.replace('\\n', '').replace('\\t', '')\n",
    "    dict_data = dictify(ET.fromstring(data))\n",
    "    with open(os.path.join(os.path.dirname(path), 'data_json.json'), 'w', encoding='UTF-8') as file:\n",
    "        json.dump(dict_data, file, indent=4)"
   ]
  },
  {
   "cell_type": "code",
   "execution_count": 6,
   "id": "8240bf2b-15db-4099-b4ed-9b8d5b2dac8a",
   "metadata": {},
   "outputs": [],
   "source": [
    "xml_to_json('data.xml')"
   ]
  }
 ],
 "metadata": {
  "kernelspec": {
   "display_name": "Python 3 (ipykernel)",
   "language": "python",
   "name": "python3"
  },
  "language_info": {
   "codemirror_mode": {
    "name": "ipython",
    "version": 3
   },
   "file_extension": ".py",
   "mimetype": "text/x-python",
   "name": "python",
   "nbconvert_exporter": "python",
   "pygments_lexer": "ipython3",
   "version": "3.12.7"
  }
 },
 "nbformat": 4,
 "nbformat_minor": 5
}
